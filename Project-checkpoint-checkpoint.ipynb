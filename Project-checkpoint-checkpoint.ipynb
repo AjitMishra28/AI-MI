{
 "cells": [
  {
   "cell_type": "code",
   "execution_count": 24,
   "id": "97b62f4b-06ac-4833-803b-c4fb0e5a14b7",
   "metadata": {},
   "outputs": [
    {
     "data": {
      "text/html": [
       "<div>\n",
       "<style scoped>\n",
       "    .dataframe tbody tr th:only-of-type {\n",
       "        vertical-align: middle;\n",
       "    }\n",
       "\n",
       "    .dataframe tbody tr th {\n",
       "        vertical-align: top;\n",
       "    }\n",
       "\n",
       "    .dataframe thead th {\n",
       "        text-align: right;\n",
       "    }\n",
       "</style>\n",
       "<table border=\"1\" class=\"dataframe\">\n",
       "  <thead>\n",
       "    <tr style=\"text-align: right;\">\n",
       "      <th></th>\n",
       "      <th>step</th>\n",
       "      <th>type</th>\n",
       "      <th>amount</th>\n",
       "      <th>nameOrig</th>\n",
       "      <th>oldbalanceOrg</th>\n",
       "      <th>newbalanceOrig</th>\n",
       "      <th>nameDest</th>\n",
       "      <th>oldbalanceDest</th>\n",
       "      <th>newbalanceDest</th>\n",
       "      <th>isFraud</th>\n",
       "    </tr>\n",
       "  </thead>\n",
       "  <tbody>\n",
       "    <tr>\n",
       "      <th>0</th>\n",
       "      <td>358</td>\n",
       "      <td>PAYMENT</td>\n",
       "      <td>2739.93</td>\n",
       "      <td>C1139154882</td>\n",
       "      <td>117230</td>\n",
       "      <td>114490.07</td>\n",
       "      <td>M2138213924</td>\n",
       "      <td>0.00</td>\n",
       "      <td>0.00</td>\n",
       "      <td>0</td>\n",
       "    </tr>\n",
       "    <tr>\n",
       "      <th>1</th>\n",
       "      <td>371</td>\n",
       "      <td>CASH_OUT</td>\n",
       "      <td>124119.87</td>\n",
       "      <td>C603024364</td>\n",
       "      <td>303076</td>\n",
       "      <td>178956.13</td>\n",
       "      <td>C1110031759</td>\n",
       "      <td>0.00</td>\n",
       "      <td>124119.87</td>\n",
       "      <td>0</td>\n",
       "    </tr>\n",
       "    <tr>\n",
       "      <th>2</th>\n",
       "      <td>129</td>\n",
       "      <td>CASH_IN</td>\n",
       "      <td>47715.14</td>\n",
       "      <td>C1297774858</td>\n",
       "      <td>21073457.15</td>\n",
       "      <td>21121172.29</td>\n",
       "      <td>C1790183137</td>\n",
       "      <td>838365.79</td>\n",
       "      <td>790650.65</td>\n",
       "      <td>0</td>\n",
       "    </tr>\n",
       "    <tr>\n",
       "      <th>3</th>\n",
       "      <td>248</td>\n",
       "      <td>CASH_OUT</td>\n",
       "      <td>76557.65</td>\n",
       "      <td>C4357787</td>\n",
       "      <td>5367.f8</td>\n",
       "      <td>7873797.00</td>\n",
       "      <td>H`765627</td>\n",
       "      <td>4536762.00</td>\n",
       "      <td>6725270.00</td>\n",
       "      <td>526</td>\n",
       "    </tr>\n",
       "  </tbody>\n",
       "</table>\n",
       "</div>"
      ],
      "text/plain": [
       "   step      type     amount     nameOrig oldbalanceOrg  newbalanceOrig  \\\n",
       "0   358   PAYMENT    2739.93  C1139154882        117230       114490.07   \n",
       "1   371  CASH_OUT  124119.87   C603024364        303076       178956.13   \n",
       "2   129   CASH_IN   47715.14  C1297774858   21073457.15     21121172.29   \n",
       "3   248  CASH_OUT   76557.65     C4357787       5367.f8      7873797.00   \n",
       "\n",
       "      nameDest  oldbalanceDest  newbalanceDest  isFraud  \n",
       "0  M2138213924            0.00            0.00        0  \n",
       "1  C1110031759            0.00       124119.87        0  \n",
       "2  C1790183137       838365.79       790650.65        0  \n",
       "3     H`765627      4536762.00      6725270.00      526  "
      ]
     },
     "execution_count": 24,
     "metadata": {},
     "output_type": "execute_result"
    }
   ],
   "source": [
    "import numpy as np\n",
    "import pandas as pd\n",
    "import matplotlib.pyplot as plt\n",
    "import seaborn as sns\n",
    "%matplotlib inline \n",
    "\n",
    "data = pd.read_csv('data.csv')\n",
    "data"
   ]
  },
  {
   "cell_type": "code",
   "execution_count": 25,
   "id": "cf44094b-9722-4c2f-be9b-957b8b009be4",
   "metadata": {},
   "outputs": [
    {
     "name": "stdout",
     "output_type": "stream",
     "text": [
      "<class 'pandas.core.frame.DataFrame'>\n",
      "RangeIndex: 4 entries, 0 to 3\n",
      "Data columns (total 10 columns):\n",
      " #   Column          Non-Null Count  Dtype  \n",
      "---  ------          --------------  -----  \n",
      " 0   step            4 non-null      int64  \n",
      " 1   type            4 non-null      object \n",
      " 2   amount          4 non-null      float64\n",
      " 3   nameOrig        4 non-null      object \n",
      " 4   oldbalanceOrg   4 non-null      object \n",
      " 5   newbalanceOrig  4 non-null      float64\n",
      " 6   nameDest        4 non-null      object \n",
      " 7   oldbalanceDest  4 non-null      float64\n",
      " 8   newbalanceDest  4 non-null      float64\n",
      " 9   isFraud         4 non-null      int64  \n",
      "dtypes: float64(4), int64(2), object(4)\n",
      "memory usage: 452.0+ bytes\n"
     ]
    }
   ],
   "source": [
    "#To print the information of the data we can use data.info() command.\n",
    "data.info()"
   ]
  },
  {
   "cell_type": "code",
   "execution_count": 26,
   "id": "e6cfcfa5-fcc0-4ae6-9334-cfe1b7db2ad6",
   "metadata": {},
   "outputs": [
    {
     "data": {
      "text/html": [
       "<div>\n",
       "<style scoped>\n",
       "    .dataframe tbody tr th:only-of-type {\n",
       "        vertical-align: middle;\n",
       "    }\n",
       "\n",
       "    .dataframe tbody tr th {\n",
       "        vertical-align: top;\n",
       "    }\n",
       "\n",
       "    .dataframe thead th {\n",
       "        text-align: right;\n",
       "    }\n",
       "</style>\n",
       "<table border=\"1\" class=\"dataframe\">\n",
       "  <thead>\n",
       "    <tr style=\"text-align: right;\">\n",
       "      <th></th>\n",
       "      <th>step</th>\n",
       "      <th>amount</th>\n",
       "      <th>newbalanceOrig</th>\n",
       "      <th>oldbalanceDest</th>\n",
       "      <th>newbalanceDest</th>\n",
       "      <th>isFraud</th>\n",
       "    </tr>\n",
       "  </thead>\n",
       "  <tbody>\n",
       "    <tr>\n",
       "      <th>count</th>\n",
       "      <td>4.000000</td>\n",
       "      <td>4.000000</td>\n",
       "      <td>4.000000e+00</td>\n",
       "      <td>4.000000e+00</td>\n",
       "      <td>4.000000e+00</td>\n",
       "      <td>4.0</td>\n",
       "    </tr>\n",
       "    <tr>\n",
       "      <th>mean</th>\n",
       "      <td>276.500000</td>\n",
       "      <td>62783.147500</td>\n",
       "      <td>7.322104e+06</td>\n",
       "      <td>1.343782e+06</td>\n",
       "      <td>1.910010e+06</td>\n",
       "      <td>131.5</td>\n",
       "    </tr>\n",
       "    <tr>\n",
       "      <th>std</th>\n",
       "      <td>112.754896</td>\n",
       "      <td>50938.404843</td>\n",
       "      <td>9.894323e+06</td>\n",
       "      <td>2.165030e+06</td>\n",
       "      <td>3.228892e+06</td>\n",
       "      <td>263.0</td>\n",
       "    </tr>\n",
       "    <tr>\n",
       "      <th>min</th>\n",
       "      <td>129.000000</td>\n",
       "      <td>2739.930000</td>\n",
       "      <td>1.144901e+05</td>\n",
       "      <td>0.000000e+00</td>\n",
       "      <td>0.000000e+00</td>\n",
       "      <td>0.0</td>\n",
       "    </tr>\n",
       "    <tr>\n",
       "      <th>25%</th>\n",
       "      <td>218.250000</td>\n",
       "      <td>36471.337500</td>\n",
       "      <td>1.628396e+05</td>\n",
       "      <td>0.000000e+00</td>\n",
       "      <td>9.308990e+04</td>\n",
       "      <td>0.0</td>\n",
       "    </tr>\n",
       "    <tr>\n",
       "      <th>50%</th>\n",
       "      <td>303.000000</td>\n",
       "      <td>62136.395000</td>\n",
       "      <td>4.026377e+06</td>\n",
       "      <td>4.191829e+05</td>\n",
       "      <td>4.573853e+05</td>\n",
       "      <td>0.0</td>\n",
       "    </tr>\n",
       "    <tr>\n",
       "      <th>75%</th>\n",
       "      <td>361.250000</td>\n",
       "      <td>88448.205000</td>\n",
       "      <td>1.118564e+07</td>\n",
       "      <td>1.762965e+06</td>\n",
       "      <td>2.274305e+06</td>\n",
       "      <td>131.5</td>\n",
       "    </tr>\n",
       "    <tr>\n",
       "      <th>max</th>\n",
       "      <td>371.000000</td>\n",
       "      <td>124119.870000</td>\n",
       "      <td>2.112117e+07</td>\n",
       "      <td>4.536762e+06</td>\n",
       "      <td>6.725270e+06</td>\n",
       "      <td>526.0</td>\n",
       "    </tr>\n",
       "  </tbody>\n",
       "</table>\n",
       "</div>"
      ],
      "text/plain": [
       "             step         amount  newbalanceOrig  oldbalanceDest  \\\n",
       "count    4.000000       4.000000    4.000000e+00    4.000000e+00   \n",
       "mean   276.500000   62783.147500    7.322104e+06    1.343782e+06   \n",
       "std    112.754896   50938.404843    9.894323e+06    2.165030e+06   \n",
       "min    129.000000    2739.930000    1.144901e+05    0.000000e+00   \n",
       "25%    218.250000   36471.337500    1.628396e+05    0.000000e+00   \n",
       "50%    303.000000   62136.395000    4.026377e+06    4.191829e+05   \n",
       "75%    361.250000   88448.205000    1.118564e+07    1.762965e+06   \n",
       "max    371.000000  124119.870000    2.112117e+07    4.536762e+06   \n",
       "\n",
       "       newbalanceDest  isFraud  \n",
       "count    4.000000e+00      4.0  \n",
       "mean     1.910010e+06    131.5  \n",
       "std      3.228892e+06    263.0  \n",
       "min      0.000000e+00      0.0  \n",
       "25%      9.308990e+04      0.0  \n",
       "50%      4.573853e+05      0.0  \n",
       "75%      2.274305e+06    131.5  \n",
       "max      6.725270e+06    526.0  "
      ]
     },
     "execution_count": 26,
     "metadata": {},
     "output_type": "execute_result"
    }
   ],
   "source": [
    "#Let's see the mean,count,minimum,maximum values of the data\n",
    "data.describe()"
   ]
  },
  {
   "cell_type": "code",
   "execution_count": 27,
   "id": "940e1510-d416-43a7-bd73-a2e8d8170744",
   "metadata": {},
   "outputs": [
    {
     "name": "stdout",
     "output_type": "stream",
     "text": [
      "Categorical Variables: 4\n",
      "Integer Variables: 2\n",
      "Float Variable: 4\n"
     ]
    }
   ],
   "source": [
    "#let's count the columns with different datatype lie Categorical,int,float\n",
    "obj =(data.dtypes =='object')\n",
    "object_cols = list(obj[obj].index)\n",
    "print(\"Categorical Variables:\",len(object_cols))\n",
    "\n",
    "int_=(data.dtypes == 'int')\n",
    "num_cols = list(int_[int_].index)\n",
    "print(\"Integer Variables:\", len(num_cols))\n",
    "\n",
    "fl= (data.dtypes == 'float')\n",
    "fl_cols=list(fl[fl].index)\n",
    "print(\"Float Variable:\",len(fl_cols))"
   ]
  },
  {
   "cell_type": "code",
   "execution_count": 28,
   "id": "6c70d654-74ff-4c86-82ae-7ac144d8d672",
   "metadata": {},
   "outputs": [
    {
     "data": {
      "text/plain": [
       "<Axes: xlabel='type', ylabel='count'>"
      ]
     },
     "execution_count": 28,
     "metadata": {},
     "output_type": "execute_result"
    },
    {
     "data": {
      "image/png": "[encoded data removed]",
      "text/plain": [
       "<Figure size 640x480 with 1 Axes>"
      ]
     },
     "metadata": {},
     "output_type": "display_data"
    }
   ],
   "source": [
    "#let's see the plot of the payment type column using Seaborn library\n",
    "sns.countplot(x='type', data=data)"
   ]
  },
  {
   "cell_type": "code",
   "execution_count": 29,
   "id": "9101081d-e0b4-4f4a-989b-70d11c4a5f5d",
   "metadata": {},
   "outputs": [
    {
     "data": {
      "text/plain": [
       "<Axes: xlabel='type', ylabel='amount'>"
      ]
     },
     "execution_count": 29,
     "metadata": {},
     "output_type": "execute_result"
    },
    {
     "data": {
      "image/png": "[encoded data removed]",
      "text/plain": [
       "<Figure size 640x480 with 1 Axes>"
      ]
     },
     "metadata": {},
     "output_type": "display_data"
    }
   ],
   "source": [
    "#The bar plot for analyzing Type and Amount column simultaneously\n",
    "sns.barplot(x='type',y='amount', data=data)"
   ]
  },
  {
   "cell_type": "code",
   "execution_count": 30,
   "id": "5be32b17-6944-4948-8e3d-68581b7ed51a",
   "metadata": {},
   "outputs": [
    {
     "data": {
      "text/plain": [
       "isFraud\n",
       "0      3\n",
       "526    1\n",
       "Name: count, dtype: int64"
      ]
     },
     "execution_count": 30,
     "metadata": {},
     "output_type": "execute_result"
    }
   ],
   "source": [
    "# let check the distribution of data among both the prediction values\n",
    "data['isFraud'].value_counts()"
   ]
  },
  {
   "cell_type": "code",
   "execution_count": 44,
   "id": "db8e8194-c42d-409e-bb8f-cf41e1c7d921",
   "metadata": {},
   "outputs": [
    {
     "data": {
      "text/plain": [
       "<Axes: xlabel='step', ylabel='Count'>"
      ]
     },
     "execution_count": 44,
     "metadata": {},
     "output_type": "execute_result"
    },
    {
     "data": {
      "image/png": "[encoded data removed]",
      "text/plain": [
       "<Figure size 1000x500 with 1 Axes>"
      ]
     },
     "metadata": {},
     "output_type": "display_data"
    }
   ],
   "source": [
    "plt.figure(figsize=(10,5))\n",
    "sns.histplot(data['step'],bins=50)"
   ]
  },
  {
   "cell_type": "code",
   "execution_count": 51,
   "id": "2f57fe57-1ba4-47c9-82c7-4418dbc94c70",
   "metadata": {},
   "outputs": [
    {
     "ename": "NameError",
     "evalue": "name 'corr' is not defined",
     "output_type": "error",
     "traceback": [
      "\u001b[1;31m---------------------------------------------------------------------------\u001b[0m",
      "\u001b[1;31mNameError\u001b[0m                                 Traceback (most recent call last)",
      "Cell \u001b[1;32mIn[51], line 2\u001b[0m\n\u001b[0;32m      1\u001b[0m plt\u001b[38;5;241m.\u001b[39mfigure(figsize\u001b[38;5;241m=\u001b[39m(\u001b[38;5;241m12\u001b[39m, \u001b[38;5;241m6\u001b[39m))\n\u001b[1;32m----> 2\u001b[0m sns\u001b[38;5;241m.\u001b[39mheatmap(data,\u001b[43mcorr\u001b[49m(),\n\u001b[0;32m      3\u001b[0m \t\t\tcmap\u001b[38;5;241m=\u001b[39m\u001b[38;5;124m'\u001b[39m\u001b[38;5;124mBrBG\u001b[39m\u001b[38;5;124m'\u001b[39m,\n\u001b[0;32m      4\u001b[0m \t\t\tfmt\u001b[38;5;241m=\u001b[39m\u001b[38;5;124m'\u001b[39m\u001b[38;5;124m.2f\u001b[39m\u001b[38;5;124m'\u001b[39m,\n\u001b[0;32m      5\u001b[0m \t\t\tlinewidths\u001b[38;5;241m=\u001b[39m\u001b[38;5;241m2\u001b[39m,\n\u001b[0;32m      6\u001b[0m \t\t\tannot\u001b[38;5;241m=\u001b[39m\u001b[38;5;28;01mTrue\u001b[39;00m)\n",
      "\u001b[1;31mNameError\u001b[0m: name 'corr' is not defined"
     ]
    },
    {
     "data": {
      "text/plain": [
       "<Figure size 1200x600 with 0 Axes>"
      ]
     },
     "metadata": {},
     "output_type": "display_data"
    }
   ],
   "source": [
    "plt.figure(figsize=(12, 6))\n",
    "sns.heatmap(data,corr(),\n",
    "\t\t\tcmap='BrBG',\n",
    "\t\t\tfmt='.2f',\n",
    "\t\t\tlinewidths=2,\n",
    "\t\t\tannot=True)\n"
   ]
  },
  {
   "cell_type": "code",
   "execution_count": null,
   "id": "33aa7af3-1fb2-4d89-b27a-9d6f1eaf264d",
   "metadata": {},
   "outputs": [],
   "source": []
  }
 ],
 "metadata": {
  "kernelspec": {
   "display_name": "Python 3 (ipykernel)",
   "language": "python",
   "name": "python3"
  },
  "language_info": {
   "codemirror_mode": {
    "name": "ipython",
    "version": 3
   },
   "file_extension": ".py",
   "mimetype": "text/x-python",
   "name": "python",
   "nbconvert_exporter": "python",
   "pygments_lexer": "ipython3",
   "version": "3.13.0"
  }
 },
 "nbformat": 4,
 "nbformat_minor": 5
}
